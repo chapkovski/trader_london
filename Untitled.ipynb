{
 "cells": [
  {
   "cell_type": "code",
   "execution_count": 15,
   "id": "f78d744c-d9f5-4a6a-97a1-410c1b2b338c",
   "metadata": {},
   "outputs": [
    {
     "data": {
      "text/plain": [
       "{}"
      ]
     },
     "execution_count": 15,
     "metadata": {},
     "output_type": "execute_result"
    }
   ],
   "source": [
    "from enum import Enum\n",
    "from pydantic import BaseModel\n",
    "\n",
    "from datetime import datetime\n",
    "import uuid\n",
    "\n",
    "\n",
    "class ActionType(Enum):\n",
    "    POST_NEW_ORDER = 'add_order'\n",
    "    CANCEL_ORDER = 'cancel_order'\n",
    "    UPDATE_BOOK_STATUS = 'update_book_status'\n",
    "    REGISTER = 'register_me'\n",
    "\n",
    "class OrderType(Enum):\n",
    "    ASK = 'ask'\n",
    "    BID = 'bid'\n",
    "class Order(BaseModel):\n",
    "    order_type=OrderType\n",
    "\n",
    "# a=dict(order_type=OrderType.ASK)\n",
    "a = Order(order_type=OrderType.ASK.value)\n",
    "a.model_dump()\n",
    "# a.get('order_type') == 'ask'"
   ]
  }
 ],
 "metadata": {
  "kernelspec": {
   "display_name": "Python 3 (ipykernel)",
   "language": "python",
   "name": "python3"
  },
  "language_info": {
   "codemirror_mode": {
    "name": "ipython",
    "version": 3
   },
   "file_extension": ".py",
   "mimetype": "text/x-python",
   "name": "python",
   "nbconvert_exporter": "python",
   "pygments_lexer": "ipython3",
   "version": "3.11.5"
  }
 },
 "nbformat": 4,
 "nbformat_minor": 5
}
