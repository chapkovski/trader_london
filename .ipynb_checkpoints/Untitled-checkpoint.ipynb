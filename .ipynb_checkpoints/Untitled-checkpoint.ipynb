{
 "cells": [
  {
   "cell_type": "raw",
   "source": [],
   "metadata": {
    "collapsed": false
   },
   "id": "967238c501d789ba"
  }
 ],
 "metadata": {},
 "nbformat": 4,
 "nbformat_minor": 5
}
